{
 "cells": [
  {
   "cell_type": "code",
   "execution_count": 1,
   "metadata": {},
   "outputs": [],
   "source": [
    "# SETUP INSTRUCTIONS\n",
    "# Run each cell below to set up environment\n",
    "# Make sure to adjust subjectid and path variables\n",
    "# Run pupillabs test BEFORE this protocol to ensure measurements are as expected\n",
    "path_base = 'C:/Users/kebl6975/Documents/GitHub/cvd_pupillometry/subjectdata/'\n",
    "# can add subject number + date\n",
    "subject_id = 900\n",
    "subj_base = 'sub-900/pipr-90s-binoc-sub-900_ses-03_dat-20240404' # pipr-sub-subjectID-ses-sesID-dat-date - sub-xxx-ses-xx-dat-yyyymmdd"
   ]
  },
  {
   "cell_type": "code",
   "execution_count": 2,
   "metadata": {},
   "outputs": [
    {
     "name": "stdin",
     "output_type": "stream",
     "text": [
      "> Refit the 3d model? [y/n]:  n\n"
     ]
    }
   ],
   "source": [
    "from time import sleep\n",
    "# import random # not using this library unless we want to randomize stims\n",
    "from pyplr.pupil import PupilCore\n",
    "from pyplr.utils import unpack_data_pandas\n",
    "from pyplr.protocol import input_subject_id, subject_dir\n",
    "# Connect to Pupil Core\n",
    "p = PupilCore()\n",
    "p.check_3d_model()"
   ]
  },
  {
   "cell_type": "code",
   "execution_count": 8,
   "metadata": {},
   "outputs": [
    {
     "name": "stdout",
     "output_type": "stream",
     "text": [
      "> Waiting for a light to stamp...\n",
      "> Light stamped on frame.world at 522769.609867\n"
     ]
    }
   ],
   "source": [
    "annotation = p.new_annotation('LIGHT_ON')\n",
    "p.command('R')\n",
    "sleep(2.)\n",
    "lst_future = p.light_stamper(annotation=annotation, timeout=10)\n",
    "sleep(10)\n",
    "p.command('r')\n",
    "data = lst_future.result()"
   ]
  }
 ],
 "metadata": {
  "kernelspec": {
   "display_name": "Python 3 (ipykernel)",
   "language": "python",
   "name": "python3"
  },
  "language_info": {
   "codemirror_mode": {
    "name": "ipython",
    "version": 3
   },
   "file_extension": ".py",
   "mimetype": "text/x-python",
   "name": "python",
   "nbconvert_exporter": "python",
   "pygments_lexer": "ipython3",
   "version": "3.11.7"
  },
  "vscode": {
   "interpreter": {
    "hash": "4ce50c693e2523f7cccde82e42ebcfbd665d29c02cdad852b853bc044d8ef3b2"
   }
  }
 },
 "nbformat": 4,
 "nbformat_minor": 4
}
